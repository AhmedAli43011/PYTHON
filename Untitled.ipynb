{
 "cells": [
  {
   "cell_type": "code",
   "execution_count": 1,
   "metadata": {},
   "outputs": [
    {
     "name": "stdout",
     "output_type": "stream",
     "text": [
      "Hello, and welcome to my world.\n"
     ]
    }
   ],
   "source": [
    "txt = \"hello, and welcome to my world.\"\n",
    "\n",
    "x = txt.capitalize()\n",
    "\n",
    "print (x)"
   ]
  },
  {
   "cell_type": "code",
   "execution_count": 2,
   "metadata": {},
   "outputs": [
    {
     "name": "stdout",
     "output_type": "stream",
     "text": [
      "hello, and welcome to my world!\n"
     ]
    }
   ],
   "source": [
    "txt = \"Hello, And Welcome To My World!\"\n",
    "\n",
    "x = txt.casefold()\n",
    "\n",
    "print(x)"
   ]
  },
  {
   "cell_type": "code",
   "execution_count": 3,
   "metadata": {},
   "outputs": [
    {
     "name": "stdout",
     "output_type": "stream",
     "text": [
      "       banana       \n"
     ]
    }
   ],
   "source": [
    "txt = \"banana\"\n",
    "\n",
    "x = txt.center(20)\n",
    "\n",
    "print(x)"
   ]
  },
  {
   "cell_type": "code",
   "execution_count": 4,
   "metadata": {},
   "outputs": [
    {
     "name": "stdout",
     "output_type": "stream",
     "text": [
      "2\n"
     ]
    }
   ],
   "source": [
    "txt = \"I love apples, apple are my favorite fruit\"\n",
    "\n",
    "x = txt.count(\"apple\")\n",
    "\n",
    "print(x)"
   ]
  },
  {
   "cell_type": "code",
   "execution_count": 5,
   "metadata": {},
   "outputs": [
    {
     "name": "stdout",
     "output_type": "stream",
     "text": [
      "b'My name is St\\xc3\\xa5le'\n"
     ]
    }
   ],
   "source": [
    "txt = \"My name is Ståle\"\n",
    "\n",
    "x = txt.encode()\n",
    "\n",
    "print(x)"
   ]
  },
  {
   "cell_type": "code",
   "execution_count": 6,
   "metadata": {},
   "outputs": [
    {
     "name": "stdout",
     "output_type": "stream",
     "text": [
      "True\n"
     ]
    }
   ],
   "source": [
    "txt = \"Hello, welcome to my world.\"\n",
    "\n",
    "x = txt.endswith(\".\")\n",
    "\n",
    "print(x)"
   ]
  },
  {
   "cell_type": "code",
   "execution_count": 7,
   "metadata": {},
   "outputs": [
    {
     "name": "stdout",
     "output_type": "stream",
     "text": [
      "H e l l o\n"
     ]
    }
   ],
   "source": [
    "txt = \"H\\te\\tl\\tl\\to\"\n",
    "\n",
    "x =  txt.expandtabs(2)\n",
    "\n",
    "print(x)"
   ]
  },
  {
   "cell_type": "code",
   "execution_count": 8,
   "metadata": {},
   "outputs": [
    {
     "name": "stdout",
     "output_type": "stream",
     "text": [
      "7\n"
     ]
    }
   ],
   "source": [
    "txt = \"Hello, welcome to my world.\"\n",
    "\n",
    "x = txt.find(\"welcome\")\n",
    "\n",
    "print(x)"
   ]
  },
  {
   "cell_type": "code",
   "execution_count": 9,
   "metadata": {},
   "outputs": [
    {
     "name": "stdout",
     "output_type": "stream",
     "text": [
      "For only 49.00 dollars!\n"
     ]
    }
   ],
   "source": [
    "txt = \"For only {price:.2f} dollars!\"\n",
    "print(txt.format(price = 49))"
   ]
  },
  {
   "cell_type": "code",
   "execution_count": 11,
   "metadata": {},
   "outputs": [
    {
     "name": "stdout",
     "output_type": "stream",
     "text": [
      "7\n"
     ]
    }
   ],
   "source": [
    "txt = \"Hello, welcome to my world.\"\n",
    "\n",
    "x = txt.index(\"welcome\")\n",
    "\n",
    "print(x)"
   ]
  },
  {
   "cell_type": "code",
   "execution_count": 12,
   "metadata": {},
   "outputs": [
    {
     "name": "stdout",
     "output_type": "stream",
     "text": [
      "True\n"
     ]
    }
   ],
   "source": [
    "txt = \"Company12\"\n",
    "\n",
    "x = txt.isalnum()\n",
    "\n",
    "print(x)"
   ]
  },
  {
   "cell_type": "code",
   "execution_count": 13,
   "metadata": {},
   "outputs": [
    {
     "name": "stdout",
     "output_type": "stream",
     "text": [
      "True\n"
     ]
    }
   ],
   "source": [
    "txt = \"CompanyX\"\n",
    "\n",
    "x = txt.isalpha()\n",
    "\n",
    "print(x)"
   ]
  },
  {
   "cell_type": "code",
   "execution_count": 14,
   "metadata": {},
   "outputs": [
    {
     "name": "stdout",
     "output_type": "stream",
     "text": [
      "True\n"
     ]
    }
   ],
   "source": [
    "txt = \"\\u0033\" #unicode for 3\n",
    "\n",
    "x = txt.isdecimal()\n",
    "\n",
    "print(x)"
   ]
  },
  {
   "cell_type": "code",
   "execution_count": 15,
   "metadata": {},
   "outputs": [
    {
     "name": "stdout",
     "output_type": "stream",
     "text": [
      "True\n"
     ]
    }
   ],
   "source": [
    "txt = \"50800\"\n",
    "\n",
    "x = txt.isdigit()\n",
    "\n",
    "print(x)\n"
   ]
  },
  {
   "cell_type": "code",
   "execution_count": 16,
   "metadata": {},
   "outputs": [
    {
     "name": "stdout",
     "output_type": "stream",
     "text": [
      "True\n"
     ]
    }
   ],
   "source": [
    "txt = \"Demo\"\n",
    "\n",
    "x = txt.isidentifier()\n",
    "\n",
    "print(x)"
   ]
  },
  {
   "cell_type": "code",
   "execution_count": 17,
   "metadata": {},
   "outputs": [
    {
     "name": "stdout",
     "output_type": "stream",
     "text": [
      "True\n"
     ]
    }
   ],
   "source": [
    "txt = \"hello world!\"\n",
    "\n",
    "x = txt.islower()\n",
    "\n",
    "print(x)"
   ]
  },
  {
   "cell_type": "code",
   "execution_count": 18,
   "metadata": {},
   "outputs": [
    {
     "name": "stdout",
     "output_type": "stream",
     "text": [
      "True\n"
     ]
    }
   ],
   "source": [
    "txt = \"565543\"\n",
    "\n",
    "x = txt.isnumeric()\n",
    "\n",
    "print(x)"
   ]
  },
  {
   "cell_type": "code",
   "execution_count": 19,
   "metadata": {},
   "outputs": [
    {
     "name": "stdout",
     "output_type": "stream",
     "text": [
      "True\n"
     ]
    }
   ],
   "source": [
    "txt = \"Hello! Are you #1?\"\n",
    "\n",
    "x = txt.isprintable()\n",
    "\n",
    "print(x)"
   ]
  },
  {
   "cell_type": "code",
   "execution_count": 20,
   "metadata": {},
   "outputs": [
    {
     "name": "stdout",
     "output_type": "stream",
     "text": [
      "True\n"
     ]
    }
   ],
   "source": [
    "txt = \"   \"\n",
    "\n",
    "x = txt.isspace()\n",
    "\n",
    "print(x)"
   ]
  },
  {
   "cell_type": "code",
   "execution_count": 21,
   "metadata": {},
   "outputs": [
    {
     "name": "stdout",
     "output_type": "stream",
     "text": [
      "True\n"
     ]
    }
   ],
   "source": [
    "txt = \"Hello, And Welcome To My World!\"\n",
    "\n",
    "x = txt.istitle()\n",
    "\n",
    "print(x)"
   ]
  },
  {
   "cell_type": "code",
   "execution_count": 22,
   "metadata": {},
   "outputs": [
    {
     "name": "stdout",
     "output_type": "stream",
     "text": [
      "True\n"
     ]
    }
   ],
   "source": [
    "txt = \"THIS IS NOW!\"\n",
    "\n",
    "x = txt.isupper()\n",
    "\n",
    "print(x)"
   ]
  },
  {
   "cell_type": "code",
   "execution_count": 23,
   "metadata": {},
   "outputs": [
    {
     "name": "stdout",
     "output_type": "stream",
     "text": [
      "John#Peter#Vicky\n"
     ]
    }
   ],
   "source": [
    "myTuple = (\"John\", \"Peter\", \"Vicky\")\n",
    "\n",
    "x = \"#\".join(myTuple)\n",
    "\n",
    "print(x)\n"
   ]
  },
  {
   "cell_type": "code",
   "execution_count": 24,
   "metadata": {},
   "outputs": [
    {
     "name": "stdout",
     "output_type": "stream",
     "text": [
      "banana               is my favorite fruit.\n"
     ]
    }
   ],
   "source": [
    "txt = \"banana\"\n",
    "\n",
    "x = txt.ljust(20)\n",
    "\n",
    "print(x, \"is my favorite fruit.\")"
   ]
  },
  {
   "cell_type": "code",
   "execution_count": 25,
   "metadata": {},
   "outputs": [
    {
     "name": "stdout",
     "output_type": "stream",
     "text": [
      "hello my friends\n"
     ]
    }
   ],
   "source": [
    "txt = \"Hello my FRIENDS\"\n",
    "\n",
    "x = txt.lower()\n",
    "\n",
    "print(x)\n"
   ]
  },
  {
   "cell_type": "code",
   "execution_count": 26,
   "metadata": {},
   "outputs": [
    {
     "name": "stdout",
     "output_type": "stream",
     "text": [
      "of all fruits banana      is my favorite\n"
     ]
    }
   ],
   "source": [
    "txt = \"     banana     \"\n",
    "\n",
    "x = txt.lstrip()\n",
    "\n",
    "print(\"of all fruits\", x, \"is my favorite\")\n"
   ]
  },
  {
   "cell_type": "code",
   "execution_count": 27,
   "metadata": {},
   "outputs": [
    {
     "name": "stdout",
     "output_type": "stream",
     "text": [
      "('I could eat ', 'bananas', ' all day')\n"
     ]
    }
   ],
   "source": [
    "txt = \"I could eat bananas all day\"\n",
    "\n",
    "x = txt.partition(\"bananas\")\n",
    "\n",
    "print(x)\n"
   ]
  },
  {
   "cell_type": "code",
   "execution_count": 28,
   "metadata": {},
   "outputs": [
    {
     "name": "stdout",
     "output_type": "stream",
     "text": [
      "I like apples\n"
     ]
    }
   ],
   "source": [
    "txt = \"I like bananas\"\n",
    "\n",
    "x = txt.replace(\"bananas\", \"apples\")\n",
    "\n",
    "print(x)\n"
   ]
  },
  {
   "cell_type": "code",
   "execution_count": 29,
   "metadata": {},
   "outputs": [
    {
     "name": "stdout",
     "output_type": "stream",
     "text": [
      "12\n"
     ]
    }
   ],
   "source": [
    "txt = \"Mi casa, su casa.\"\n",
    "\n",
    "x = txt.rfind(\"casa\")\n",
    "\n",
    "print(x)"
   ]
  },
  {
   "cell_type": "code",
   "execution_count": 30,
   "metadata": {},
   "outputs": [
    {
     "name": "stdout",
     "output_type": "stream",
     "text": [
      "12\n"
     ]
    }
   ],
   "source": [
    "txt = \"Mi casa, su casa.\"\n",
    "\n",
    "x = txt.rindex(\"casa\")\n",
    "\n",
    "print(x)"
   ]
  },
  {
   "cell_type": "code",
   "execution_count": 31,
   "metadata": {},
   "outputs": [
    {
     "name": "stdout",
     "output_type": "stream",
     "text": [
      "              banana is my favorite fruit.\n"
     ]
    }
   ],
   "source": [
    "txt = \"banana\"\n",
    "\n",
    "x = txt.rjust(20)\n",
    "\n",
    "print(x, \"is my favorite fruit.\")"
   ]
  },
  {
   "cell_type": "code",
   "execution_count": 32,
   "metadata": {},
   "outputs": [
    {
     "name": "stdout",
     "output_type": "stream",
     "text": [
      "('I could eat bananas all day, ', 'bananas', ' are my favorite fruit')\n"
     ]
    }
   ],
   "source": [
    "txt = \"I could eat bananas all day, bananas are my favorite fruit\"\n",
    "\n",
    "x = txt.rpartition(\"bananas\")\n",
    "\n",
    "print(x)"
   ]
  },
  {
   "cell_type": "code",
   "execution_count": 33,
   "metadata": {},
   "outputs": [
    {
     "name": "stdout",
     "output_type": "stream",
     "text": [
      "['apple', 'banana', 'cherry']\n"
     ]
    }
   ],
   "source": [
    "txt = \"apple, banana, cherry\"\n",
    "\n",
    "x = txt.rsplit(\", \")\n",
    "\n",
    "print(x)"
   ]
  },
  {
   "cell_type": "code",
   "execution_count": 34,
   "metadata": {},
   "outputs": [
    {
     "name": "stdout",
     "output_type": "stream",
     "text": [
      "['welcome', 'to', 'the', 'jungle']\n"
     ]
    }
   ],
   "source": [
    "txt = \"welcome to the jungle\"\n",
    "\n",
    "x = txt.split()\n",
    "\n",
    "print(x)\n"
   ]
  },
  {
   "cell_type": "code",
   "execution_count": 36,
   "metadata": {},
   "outputs": [
    {
     "name": "stdout",
     "output_type": "stream",
     "text": [
      "hELLO mY nAME iS peter\n"
     ]
    }
   ],
   "source": [
    "txt = \"Hello My Name Is PETER\"\n",
    "\n",
    "x = txt.swapcase()\n",
    "\n",
    "print(x)\n"
   ]
  },
  {
   "cell_type": "code",
   "execution_count": 37,
   "metadata": {},
   "outputs": [
    {
     "name": "stdout",
     "output_type": "stream",
     "text": [
      "Welcome To My World\n"
     ]
    }
   ],
   "source": [
    "txt = \"Welcome to my world\"\n",
    "\n",
    "x = txt.title()\n",
    "\n",
    "print(x)"
   ]
  },
  {
   "cell_type": "code",
   "execution_count": 38,
   "metadata": {},
   "outputs": [
    {
     "name": "stdout",
     "output_type": "stream",
     "text": [
      "HELLO MY FRIENDS\n"
     ]
    }
   ],
   "source": [
    "txt = \"Hello my friends\"\n",
    "\n",
    "x = txt.upper()\n",
    "\n",
    "print(x)\n"
   ]
  },
  {
   "cell_type": "code",
   "execution_count": 39,
   "metadata": {},
   "outputs": [
    {
     "name": "stdout",
     "output_type": "stream",
     "text": [
      "0000000050\n"
     ]
    }
   ],
   "source": [
    "txt = \"50\"\n",
    "\n",
    "x = txt.zfill(10)\n",
    "\n",
    "print(x)\n"
   ]
  },
  {
   "cell_type": "code",
   "execution_count": 40,
   "metadata": {},
   "outputs": [
    {
     "name": "stdout",
     "output_type": "stream",
     "text": [
      "Enter First Number: 100\n",
      "Enter Second Number: 55\n",
      "Enter which operation would you like to perform?\n",
      "Enter any of these char for specific operation +,-,*,/: +\n",
      "100 + 55 : 155\n"
     ]
    }
   ],
   "source": [
    "#Use check in this program if/else\n",
    "num1 = int(input(\"Enter First Number: \"))\n",
    "num2 = int(input(\"Enter Second Number: \"))\n",
    "\n",
    "print(\"Enter which operation would you like to perform?\")\n",
    "ch = input(\"Enter any of these char for specific operation +,-,*,/: \")\n",
    "\n",
    "result = 0\n",
    "if ch == '+':\n",
    "    result = num1 + num2\n",
    "elif ch == '-':\n",
    "    result = num1 - num2\n",
    "elif ch == '*':\n",
    "    result = num1 * num2\n",
    "elif ch == '/':\n",
    "    result = num1 / num2\n",
    "else:\n",
    "    print(\"Input character is not recognized!\")\n",
    "\n",
    "print(num1, ch , num2, \":\", result)"
   ]
  },
  {
   "cell_type": "code",
   "execution_count": null,
   "metadata": {},
   "outputs": [],
   "source": []
  }
 ],
 "metadata": {
  "kernelspec": {
   "display_name": "Python 3",
   "language": "python",
   "name": "python3"
  },
  "language_info": {
   "codemirror_mode": {
    "name": "ipython",
    "version": 3
   },
   "file_extension": ".py",
   "mimetype": "text/x-python",
   "name": "python",
   "nbconvert_exporter": "python",
   "pygments_lexer": "ipython3",
   "version": "3.7.4"
  }
 },
 "nbformat": 4,
 "nbformat_minor": 2
}
